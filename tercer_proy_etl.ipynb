{
  "nbformat": 4,
  "nbformat_minor": 0,
  "metadata": {
    "colab": {
      "provenance": [],
      "mount_file_id": "1nJhsgHkkEpCvAqW9JQVjQozxWoZxPQx8",
      "authorship_tag": "ABX9TyNpzCFDLFEeCOnjgt+SIZLB",
      "include_colab_link": true
    },
    "kernelspec": {
      "name": "python3",
      "display_name": "Python 3"
    },
    "language_info": {
      "name": "python"
    }
  },
  "cells": [
    {
      "cell_type": "markdown",
      "metadata": {
        "id": "view-in-github",
        "colab_type": "text"
      },
      "source": [
        "<a href=\"https://colab.research.google.com/github/BrunoDkno368/Tercer_Proyect_ETL/blob/main/tercer_proy_etl.ipynb\" target=\"_parent\"><img src=\"https://colab.research.google.com/assets/colab-badge.svg\" alt=\"Open In Colab\"/></a>"
      ]
    },
    {
      "cell_type": "code",
      "execution_count": 1,
      "metadata": {
        "id": "hKwZE9EZLYer"
      },
      "outputs": [],
      "source": [
        "import pandas as pd"
      ]
    },
    {
      "cell_type": "markdown",
      "source": [
        "# EXTRAER DATOS (E)\n",
        "\n"
      ],
      "metadata": {
        "id": "MMobRffPdDq8"
      }
    },
    {
      "cell_type": "code",
      "source": [
        "df = pd.read_csv(\"/content/drive/MyDrive/ETL practica/ventas_etl30sept.csv\")"
      ],
      "metadata": {
        "id": "XOnpCeg2SG_O"
      },
      "execution_count": 2,
      "outputs": []
    },
    {
      "cell_type": "code",
      "source": [
        "print(\"los primeros 5 registros son:\")\n",
        "df.head()"
      ],
      "metadata": {
        "colab": {
          "base_uri": "https://localhost:8080/",
          "height": 224
        },
        "id": "BfqvCm0fSG8n",
        "outputId": "d024ac7f-2961-4887-aa84-7310149b24ef"
      },
      "execution_count": 3,
      "outputs": [
        {
          "output_type": "stream",
          "name": "stdout",
          "text": [
            "los primeros 5 registros son:\n"
          ]
        },
        {
          "output_type": "execute_result",
          "data": {
            "text/plain": [
              "   id_venta       fecha                          cliente     producto  \\\n",
              "0         1  2025-02-07  Rosalía Dafne Cuadrado Mercader  Auriculares   \n",
              "1         2  2023-12-25            Adoración del Buendía      Celular   \n",
              "2         3  2023-10-19                Sosimo de Serrano       Laptop   \n",
              "3         4  2025-04-27           Moisés Correa Valentín        Mouse   \n",
              "4         5  2024-04-30                              NaN      Monitor   \n",
              "\n",
              "     categoria  cantidad  precio_unitario  descuento metodo_pago   ciudad  \n",
              "0          NaN       3.0           174.82       0.01    Efectivo  Mendoza  \n",
              "1  Electrónica       3.0          1589.84        NaN    Efectivo      NaN  \n",
              "2  Electrónica       7.0           147.31        NaN     Tarjeta  Córdoba  \n",
              "3  Electrónica       7.0           766.98       0.22    Efectivo  Rosario  \n",
              "4  electronica       3.0          1215.56       0.19     Tarjeta      NaN  "
            ],
            "text/html": [
              "\n",
              "  <div id=\"df-4eeeea11-1d9c-45e3-8ae5-e25cb96dc41c\" class=\"colab-df-container\">\n",
              "    <div>\n",
              "<style scoped>\n",
              "    .dataframe tbody tr th:only-of-type {\n",
              "        vertical-align: middle;\n",
              "    }\n",
              "\n",
              "    .dataframe tbody tr th {\n",
              "        vertical-align: top;\n",
              "    }\n",
              "\n",
              "    .dataframe thead th {\n",
              "        text-align: right;\n",
              "    }\n",
              "</style>\n",
              "<table border=\"1\" class=\"dataframe\">\n",
              "  <thead>\n",
              "    <tr style=\"text-align: right;\">\n",
              "      <th></th>\n",
              "      <th>id_venta</th>\n",
              "      <th>fecha</th>\n",
              "      <th>cliente</th>\n",
              "      <th>producto</th>\n",
              "      <th>categoria</th>\n",
              "      <th>cantidad</th>\n",
              "      <th>precio_unitario</th>\n",
              "      <th>descuento</th>\n",
              "      <th>metodo_pago</th>\n",
              "      <th>ciudad</th>\n",
              "    </tr>\n",
              "  </thead>\n",
              "  <tbody>\n",
              "    <tr>\n",
              "      <th>0</th>\n",
              "      <td>1</td>\n",
              "      <td>2025-02-07</td>\n",
              "      <td>Rosalía Dafne Cuadrado Mercader</td>\n",
              "      <td>Auriculares</td>\n",
              "      <td>NaN</td>\n",
              "      <td>3.0</td>\n",
              "      <td>174.82</td>\n",
              "      <td>0.01</td>\n",
              "      <td>Efectivo</td>\n",
              "      <td>Mendoza</td>\n",
              "    </tr>\n",
              "    <tr>\n",
              "      <th>1</th>\n",
              "      <td>2</td>\n",
              "      <td>2023-12-25</td>\n",
              "      <td>Adoración del Buendía</td>\n",
              "      <td>Celular</td>\n",
              "      <td>Electrónica</td>\n",
              "      <td>3.0</td>\n",
              "      <td>1589.84</td>\n",
              "      <td>NaN</td>\n",
              "      <td>Efectivo</td>\n",
              "      <td>NaN</td>\n",
              "    </tr>\n",
              "    <tr>\n",
              "      <th>2</th>\n",
              "      <td>3</td>\n",
              "      <td>2023-10-19</td>\n",
              "      <td>Sosimo de Serrano</td>\n",
              "      <td>Laptop</td>\n",
              "      <td>Electrónica</td>\n",
              "      <td>7.0</td>\n",
              "      <td>147.31</td>\n",
              "      <td>NaN</td>\n",
              "      <td>Tarjeta</td>\n",
              "      <td>Córdoba</td>\n",
              "    </tr>\n",
              "    <tr>\n",
              "      <th>3</th>\n",
              "      <td>4</td>\n",
              "      <td>2025-04-27</td>\n",
              "      <td>Moisés Correa Valentín</td>\n",
              "      <td>Mouse</td>\n",
              "      <td>Electrónica</td>\n",
              "      <td>7.0</td>\n",
              "      <td>766.98</td>\n",
              "      <td>0.22</td>\n",
              "      <td>Efectivo</td>\n",
              "      <td>Rosario</td>\n",
              "    </tr>\n",
              "    <tr>\n",
              "      <th>4</th>\n",
              "      <td>5</td>\n",
              "      <td>2024-04-30</td>\n",
              "      <td>NaN</td>\n",
              "      <td>Monitor</td>\n",
              "      <td>electronica</td>\n",
              "      <td>3.0</td>\n",
              "      <td>1215.56</td>\n",
              "      <td>0.19</td>\n",
              "      <td>Tarjeta</td>\n",
              "      <td>NaN</td>\n",
              "    </tr>\n",
              "  </tbody>\n",
              "</table>\n",
              "</div>\n",
              "    <div class=\"colab-df-buttons\">\n",
              "\n",
              "  <div class=\"colab-df-container\">\n",
              "    <button class=\"colab-df-convert\" onclick=\"convertToInteractive('df-4eeeea11-1d9c-45e3-8ae5-e25cb96dc41c')\"\n",
              "            title=\"Convert this dataframe to an interactive table.\"\n",
              "            style=\"display:none;\">\n",
              "\n",
              "  <svg xmlns=\"http://www.w3.org/2000/svg\" height=\"24px\" viewBox=\"0 -960 960 960\">\n",
              "    <path d=\"M120-120v-720h720v720H120Zm60-500h600v-160H180v160Zm220 220h160v-160H400v160Zm0 220h160v-160H400v160ZM180-400h160v-160H180v160Zm440 0h160v-160H620v160ZM180-180h160v-160H180v160Zm440 0h160v-160H620v160Z\"/>\n",
              "  </svg>\n",
              "    </button>\n",
              "\n",
              "  <style>\n",
              "    .colab-df-container {\n",
              "      display:flex;\n",
              "      gap: 12px;\n",
              "    }\n",
              "\n",
              "    .colab-df-convert {\n",
              "      background-color: #E8F0FE;\n",
              "      border: none;\n",
              "      border-radius: 50%;\n",
              "      cursor: pointer;\n",
              "      display: none;\n",
              "      fill: #1967D2;\n",
              "      height: 32px;\n",
              "      padding: 0 0 0 0;\n",
              "      width: 32px;\n",
              "    }\n",
              "\n",
              "    .colab-df-convert:hover {\n",
              "      background-color: #E2EBFA;\n",
              "      box-shadow: 0px 1px 2px rgba(60, 64, 67, 0.3), 0px 1px 3px 1px rgba(60, 64, 67, 0.15);\n",
              "      fill: #174EA6;\n",
              "    }\n",
              "\n",
              "    .colab-df-buttons div {\n",
              "      margin-bottom: 4px;\n",
              "    }\n",
              "\n",
              "    [theme=dark] .colab-df-convert {\n",
              "      background-color: #3B4455;\n",
              "      fill: #D2E3FC;\n",
              "    }\n",
              "\n",
              "    [theme=dark] .colab-df-convert:hover {\n",
              "      background-color: #434B5C;\n",
              "      box-shadow: 0px 1px 3px 1px rgba(0, 0, 0, 0.15);\n",
              "      filter: drop-shadow(0px 1px 2px rgba(0, 0, 0, 0.3));\n",
              "      fill: #FFFFFF;\n",
              "    }\n",
              "  </style>\n",
              "\n",
              "    <script>\n",
              "      const buttonEl =\n",
              "        document.querySelector('#df-4eeeea11-1d9c-45e3-8ae5-e25cb96dc41c button.colab-df-convert');\n",
              "      buttonEl.style.display =\n",
              "        google.colab.kernel.accessAllowed ? 'block' : 'none';\n",
              "\n",
              "      async function convertToInteractive(key) {\n",
              "        const element = document.querySelector('#df-4eeeea11-1d9c-45e3-8ae5-e25cb96dc41c');\n",
              "        const dataTable =\n",
              "          await google.colab.kernel.invokeFunction('convertToInteractive',\n",
              "                                                    [key], {});\n",
              "        if (!dataTable) return;\n",
              "\n",
              "        const docLinkHtml = 'Like what you see? Visit the ' +\n",
              "          '<a target=\"_blank\" href=https://colab.research.google.com/notebooks/data_table.ipynb>data table notebook</a>'\n",
              "          + ' to learn more about interactive tables.';\n",
              "        element.innerHTML = '';\n",
              "        dataTable['output_type'] = 'display_data';\n",
              "        await google.colab.output.renderOutput(dataTable, element);\n",
              "        const docLink = document.createElement('div');\n",
              "        docLink.innerHTML = docLinkHtml;\n",
              "        element.appendChild(docLink);\n",
              "      }\n",
              "    </script>\n",
              "  </div>\n",
              "\n",
              "\n",
              "    <div id=\"df-ebc05280-5628-4b2d-924d-2134d6642e2e\">\n",
              "      <button class=\"colab-df-quickchart\" onclick=\"quickchart('df-ebc05280-5628-4b2d-924d-2134d6642e2e')\"\n",
              "                title=\"Suggest charts\"\n",
              "                style=\"display:none;\">\n",
              "\n",
              "<svg xmlns=\"http://www.w3.org/2000/svg\" height=\"24px\"viewBox=\"0 0 24 24\"\n",
              "     width=\"24px\">\n",
              "    <g>\n",
              "        <path d=\"M19 3H5c-1.1 0-2 .9-2 2v14c0 1.1.9 2 2 2h14c1.1 0 2-.9 2-2V5c0-1.1-.9-2-2-2zM9 17H7v-7h2v7zm4 0h-2V7h2v10zm4 0h-2v-4h2v4z\"/>\n",
              "    </g>\n",
              "</svg>\n",
              "      </button>\n",
              "\n",
              "<style>\n",
              "  .colab-df-quickchart {\n",
              "      --bg-color: #E8F0FE;\n",
              "      --fill-color: #1967D2;\n",
              "      --hover-bg-color: #E2EBFA;\n",
              "      --hover-fill-color: #174EA6;\n",
              "      --disabled-fill-color: #AAA;\n",
              "      --disabled-bg-color: #DDD;\n",
              "  }\n",
              "\n",
              "  [theme=dark] .colab-df-quickchart {\n",
              "      --bg-color: #3B4455;\n",
              "      --fill-color: #D2E3FC;\n",
              "      --hover-bg-color: #434B5C;\n",
              "      --hover-fill-color: #FFFFFF;\n",
              "      --disabled-bg-color: #3B4455;\n",
              "      --disabled-fill-color: #666;\n",
              "  }\n",
              "\n",
              "  .colab-df-quickchart {\n",
              "    background-color: var(--bg-color);\n",
              "    border: none;\n",
              "    border-radius: 50%;\n",
              "    cursor: pointer;\n",
              "    display: none;\n",
              "    fill: var(--fill-color);\n",
              "    height: 32px;\n",
              "    padding: 0;\n",
              "    width: 32px;\n",
              "  }\n",
              "\n",
              "  .colab-df-quickchart:hover {\n",
              "    background-color: var(--hover-bg-color);\n",
              "    box-shadow: 0 1px 2px rgba(60, 64, 67, 0.3), 0 1px 3px 1px rgba(60, 64, 67, 0.15);\n",
              "    fill: var(--button-hover-fill-color);\n",
              "  }\n",
              "\n",
              "  .colab-df-quickchart-complete:disabled,\n",
              "  .colab-df-quickchart-complete:disabled:hover {\n",
              "    background-color: var(--disabled-bg-color);\n",
              "    fill: var(--disabled-fill-color);\n",
              "    box-shadow: none;\n",
              "  }\n",
              "\n",
              "  .colab-df-spinner {\n",
              "    border: 2px solid var(--fill-color);\n",
              "    border-color: transparent;\n",
              "    border-bottom-color: var(--fill-color);\n",
              "    animation:\n",
              "      spin 1s steps(1) infinite;\n",
              "  }\n",
              "\n",
              "  @keyframes spin {\n",
              "    0% {\n",
              "      border-color: transparent;\n",
              "      border-bottom-color: var(--fill-color);\n",
              "      border-left-color: var(--fill-color);\n",
              "    }\n",
              "    20% {\n",
              "      border-color: transparent;\n",
              "      border-left-color: var(--fill-color);\n",
              "      border-top-color: var(--fill-color);\n",
              "    }\n",
              "    30% {\n",
              "      border-color: transparent;\n",
              "      border-left-color: var(--fill-color);\n",
              "      border-top-color: var(--fill-color);\n",
              "      border-right-color: var(--fill-color);\n",
              "    }\n",
              "    40% {\n",
              "      border-color: transparent;\n",
              "      border-right-color: var(--fill-color);\n",
              "      border-top-color: var(--fill-color);\n",
              "    }\n",
              "    60% {\n",
              "      border-color: transparent;\n",
              "      border-right-color: var(--fill-color);\n",
              "    }\n",
              "    80% {\n",
              "      border-color: transparent;\n",
              "      border-right-color: var(--fill-color);\n",
              "      border-bottom-color: var(--fill-color);\n",
              "    }\n",
              "    90% {\n",
              "      border-color: transparent;\n",
              "      border-bottom-color: var(--fill-color);\n",
              "    }\n",
              "  }\n",
              "</style>\n",
              "\n",
              "      <script>\n",
              "        async function quickchart(key) {\n",
              "          const quickchartButtonEl =\n",
              "            document.querySelector('#' + key + ' button');\n",
              "          quickchartButtonEl.disabled = true;  // To prevent multiple clicks.\n",
              "          quickchartButtonEl.classList.add('colab-df-spinner');\n",
              "          try {\n",
              "            const charts = await google.colab.kernel.invokeFunction(\n",
              "                'suggestCharts', [key], {});\n",
              "          } catch (error) {\n",
              "            console.error('Error during call to suggestCharts:', error);\n",
              "          }\n",
              "          quickchartButtonEl.classList.remove('colab-df-spinner');\n",
              "          quickchartButtonEl.classList.add('colab-df-quickchart-complete');\n",
              "        }\n",
              "        (() => {\n",
              "          let quickchartButtonEl =\n",
              "            document.querySelector('#df-ebc05280-5628-4b2d-924d-2134d6642e2e button');\n",
              "          quickchartButtonEl.style.display =\n",
              "            google.colab.kernel.accessAllowed ? 'block' : 'none';\n",
              "        })();\n",
              "      </script>\n",
              "    </div>\n",
              "\n",
              "    </div>\n",
              "  </div>\n"
            ],
            "application/vnd.google.colaboratory.intrinsic+json": {
              "type": "dataframe",
              "variable_name": "df",
              "summary": "{\n  \"name\": \"df\",\n  \"rows\": 1500,\n  \"fields\": [\n    {\n      \"column\": \"id_venta\",\n      \"properties\": {\n        \"dtype\": \"number\",\n        \"std\": 433,\n        \"min\": 1,\n        \"max\": 1500,\n        \"num_unique_values\": 1470,\n        \"samples\": [\n          1061,\n          189,\n          1248\n        ],\n        \"semantic_type\": \"\",\n        \"description\": \"\"\n      }\n    },\n    {\n      \"column\": \"fecha\",\n      \"properties\": {\n        \"dtype\": \"object\",\n        \"num_unique_values\": 641,\n        \"samples\": [\n          \"2025-07-08\",\n          \"2024-02-04\",\n          \"2024-06-13\"\n        ],\n        \"semantic_type\": \"\",\n        \"description\": \"\"\n      }\n    },\n    {\n      \"column\": \"cliente\",\n      \"properties\": {\n        \"dtype\": \"string\",\n        \"num_unique_values\": 1423,\n        \"samples\": [\n          \"\\u00c1ngel Vidal-Cortes\",\n          \"Consuela Micaela Calvet Valderrama\",\n          \"Mireia Gertrudis Linares Salgado\"\n        ],\n        \"semantic_type\": \"\",\n        \"description\": \"\"\n      }\n    },\n    {\n      \"column\": \"producto\",\n      \"properties\": {\n        \"dtype\": \"category\",\n        \"num_unique_values\": 8,\n        \"samples\": [\n          \"Celular\",\n          \"Tablet\",\n          \"Auriculares\"\n        ],\n        \"semantic_type\": \"\",\n        \"description\": \"\"\n      }\n    },\n    {\n      \"column\": \"categoria\",\n      \"properties\": {\n        \"dtype\": \"category\",\n        \"num_unique_values\": 5,\n        \"samples\": [\n          \"electronica\",\n          \"Tecnolog\\u00eda\",\n          \"Sin categor\\u00eda\"\n        ],\n        \"semantic_type\": \"\",\n        \"description\": \"\"\n      }\n    },\n    {\n      \"column\": \"cantidad\",\n      \"properties\": {\n        \"dtype\": \"number\",\n        \"std\": 2.8784343686055127,\n        \"min\": 1.0,\n        \"max\": 10.0,\n        \"num_unique_values\": 10,\n        \"samples\": [\n          4.0,\n          7.0,\n          9.0\n        ],\n        \"semantic_type\": \"\",\n        \"description\": \"\"\n      }\n    },\n    {\n      \"column\": \"precio_unitario\",\n      \"properties\": {\n        \"dtype\": \"number\",\n        \"std\": 568.6073188047803,\n        \"min\": 10.11,\n        \"max\": 1998.22,\n        \"num_unique_values\": 1441,\n        \"samples\": [\n          1757.38,\n          373.74,\n          1206.61\n        ],\n        \"semantic_type\": \"\",\n        \"description\": \"\"\n      }\n    },\n    {\n      \"column\": \"descuento\",\n      \"properties\": {\n        \"dtype\": \"number\",\n        \"std\": 0.08663939766454712,\n        \"min\": 0.0,\n        \"max\": 0.3,\n        \"num_unique_values\": 31,\n        \"samples\": [\n          0.0,\n          0.05,\n          0.08\n        ],\n        \"semantic_type\": \"\",\n        \"description\": \"\"\n      }\n    },\n    {\n      \"column\": \"metodo_pago\",\n      \"properties\": {\n        \"dtype\": \"category\",\n        \"num_unique_values\": 4,\n        \"samples\": [\n          \"Tarjeta\",\n          \"Transferencia\",\n          \"Efectivo\"\n        ],\n        \"semantic_type\": \"\",\n        \"description\": \"\"\n      }\n    },\n    {\n      \"column\": \"ciudad\",\n      \"properties\": {\n        \"dtype\": \"category\",\n        \"num_unique_values\": 5,\n        \"samples\": [\n          \"C\\u00f3rdoba\",\n          \"Buenos Aires\",\n          \"Rosario\"\n        ],\n        \"semantic_type\": \"\",\n        \"description\": \"\"\n      }\n    }\n  ]\n}"
            }
          },
          "metadata": {},
          "execution_count": 3
        }
      ]
    },
    {
      "cell_type": "code",
      "source": [
        "print(\"LA INFORMACION GENERAL DE LOS DATOS SON:\")\n",
        "print(df.info())"
      ],
      "metadata": {
        "colab": {
          "base_uri": "https://localhost:8080/"
        },
        "id": "WZpumyxWSG52",
        "outputId": "bd2aaa95-ff65-4b29-e6af-99fb8cf69632"
      },
      "execution_count": 4,
      "outputs": [
        {
          "output_type": "stream",
          "name": "stdout",
          "text": [
            "LA INFORMACION GENERAL DE LOS DATOS SON:\n",
            "<class 'pandas.core.frame.DataFrame'>\n",
            "RangeIndex: 1500 entries, 0 to 1499\n",
            "Data columns (total 10 columns):\n",
            " #   Column           Non-Null Count  Dtype  \n",
            "---  ------           --------------  -----  \n",
            " 0   id_venta         1500 non-null   int64  \n",
            " 1   fecha            1449 non-null   object \n",
            " 2   cliente          1423 non-null   object \n",
            " 3   producto         1500 non-null   object \n",
            " 4   categoria        1256 non-null   object \n",
            " 5   cantidad         1467 non-null   float64\n",
            " 6   precio_unitario  1446 non-null   float64\n",
            " 7   descuento        1365 non-null   float64\n",
            " 8   metodo_pago      1174 non-null   object \n",
            " 9   ciudad           1218 non-null   object \n",
            "dtypes: float64(3), int64(1), object(6)\n",
            "memory usage: 117.3+ KB\n",
            "None\n"
          ]
        }
      ]
    },
    {
      "cell_type": "markdown",
      "source": [
        "# TRANSFORMACION DE DATOS (T)"
      ],
      "metadata": {
        "id": "wSePjb8GdK2d"
      }
    },
    {
      "cell_type": "markdown",
      "source": [
        "ELIMINAMOS DUPLICADOS"
      ],
      "metadata": {
        "id": "KOTVuJMReCn5"
      }
    },
    {
      "cell_type": "code",
      "source": [
        "df = df.drop_duplicates()"
      ],
      "metadata": {
        "id": "HPcGWdfUSG22"
      },
      "execution_count": 5,
      "outputs": []
    },
    {
      "cell_type": "code",
      "source": [
        "df.info()"
      ],
      "metadata": {
        "colab": {
          "base_uri": "https://localhost:8080/"
        },
        "id": "z3xtZ7ddSG0G",
        "outputId": "2e11a0ec-d396-4703-f858-59df2b28c9b1"
      },
      "execution_count": 6,
      "outputs": [
        {
          "output_type": "stream",
          "name": "stdout",
          "text": [
            "<class 'pandas.core.frame.DataFrame'>\n",
            "RangeIndex: 1500 entries, 0 to 1499\n",
            "Data columns (total 10 columns):\n",
            " #   Column           Non-Null Count  Dtype  \n",
            "---  ------           --------------  -----  \n",
            " 0   id_venta         1500 non-null   int64  \n",
            " 1   fecha            1449 non-null   object \n",
            " 2   cliente          1423 non-null   object \n",
            " 3   producto         1500 non-null   object \n",
            " 4   categoria        1256 non-null   object \n",
            " 5   cantidad         1467 non-null   float64\n",
            " 6   precio_unitario  1446 non-null   float64\n",
            " 7   descuento        1365 non-null   float64\n",
            " 8   metodo_pago      1174 non-null   object \n",
            " 9   ciudad           1218 non-null   object \n",
            "dtypes: float64(3), int64(1), object(6)\n",
            "memory usage: 117.3+ KB\n"
          ]
        }
      ]
    },
    {
      "cell_type": "markdown",
      "source": [
        "RELLENAR NULOS EN CATEGORIA POR SIN CATEGORIA"
      ],
      "metadata": {
        "id": "IeQymuuqj291"
      }
    },
    {
      "cell_type": "markdown",
      "source": [
        "CONFIRMAMOS QUE CATEGORIA TIENE NAN"
      ],
      "metadata": {
        "id": "H-y1LmHCmULZ"
      }
    },
    {
      "cell_type": "code",
      "source": [
        "df['categoria'].unique()"
      ],
      "metadata": {
        "colab": {
          "base_uri": "https://localhost:8080/"
        },
        "id": "VeO7PmrWjmAe",
        "outputId": "34c0056f-0dd8-429b-c550-66741def9d1f"
      },
      "execution_count": 7,
      "outputs": [
        {
          "output_type": "execute_result",
          "data": {
            "text/plain": [
              "array([nan, 'Electrónica', 'electronica', 'Sin categoría', 'tecnologia',\n",
              "       'Tecnología'], dtype=object)"
            ]
          },
          "metadata": {},
          "execution_count": 7
        }
      ]
    },
    {
      "cell_type": "code",
      "source": [
        "df['categoria']= df['categoria'].fillna('Sin categoría')"
      ],
      "metadata": {
        "id": "ip9lMIEFSGxh"
      },
      "execution_count": 8,
      "outputs": []
    },
    {
      "cell_type": "markdown",
      "source": [
        "VERIFICAMOS QUE LOS VALORES NULOS PASARON A SIN CATEGORÍA Y SE SUMARON A LOS QUE YA TENIAN ESAS COLUMAS"
      ],
      "metadata": {
        "id": "b87JYyU1kWjl"
      }
    },
    {
      "cell_type": "code",
      "source": [
        "df[\"categoria\"].unique()"
      ],
      "metadata": {
        "colab": {
          "base_uri": "https://localhost:8080/"
        },
        "id": "25rurBQ0h1W6",
        "outputId": "8447f7d5-874d-4f81-f88e-6315417b5f59"
      },
      "execution_count": 9,
      "outputs": [
        {
          "output_type": "execute_result",
          "data": {
            "text/plain": [
              "array(['Sin categoría', 'Electrónica', 'electronica', 'tecnologia',\n",
              "       'Tecnología'], dtype=object)"
            ]
          },
          "metadata": {},
          "execution_count": 9
        }
      ]
    },
    {
      "cell_type": "markdown",
      "source": [
        "VERIFICAMOS LA CANTIDAD DE NULOS QUE TIENE PRECIO UNITARIO"
      ],
      "metadata": {
        "id": "8E20fAHjnSrv"
      }
    },
    {
      "cell_type": "code",
      "source": [
        "df['precio_unitario'].isnull().sum()"
      ],
      "metadata": {
        "colab": {
          "base_uri": "https://localhost:8080/"
        },
        "id": "iT8BAsWsSGu2",
        "outputId": "1c76f429-2201-46e1-c399-f212fd1296b4"
      },
      "execution_count": 10,
      "outputs": [
        {
          "output_type": "execute_result",
          "data": {
            "text/plain": [
              "np.int64(54)"
            ]
          },
          "metadata": {},
          "execution_count": 10
        }
      ]
    },
    {
      "cell_type": "code",
      "source": [
        "df= df.dropna(subset=['precio_unitario'])"
      ],
      "metadata": {
        "id": "wgGsjKCNSGr-"
      },
      "execution_count": 11,
      "outputs": []
    },
    {
      "cell_type": "markdown",
      "source": [
        "CONFIRMAMOS QUE QUEDARON ELIMINADOS LOS DATOS NULOS"
      ],
      "metadata": {
        "id": "A81ampkZn4hW"
      }
    },
    {
      "cell_type": "code",
      "source": [
        "df['precio_unitario'].isnull().sum()"
      ],
      "metadata": {
        "colab": {
          "base_uri": "https://localhost:8080/"
        },
        "id": "n6W9jAuGSGpG",
        "outputId": "5405d72e-bb16-4bca-c13e-a7cf17c5d6db"
      },
      "execution_count": 12,
      "outputs": [
        {
          "output_type": "execute_result",
          "data": {
            "text/plain": [
              "np.int64(0)"
            ]
          },
          "metadata": {},
          "execution_count": 12
        }
      ]
    },
    {
      "cell_type": "markdown",
      "source": [
        "VERIFICAMOS LA CANTIDAD DE NULOS EN DESCUENTO"
      ],
      "metadata": {
        "id": "eEOKZrkVpTVj"
      }
    },
    {
      "cell_type": "code",
      "source": [
        "df['descuento'].isnull().sum()"
      ],
      "metadata": {
        "colab": {
          "base_uri": "https://localhost:8080/"
        },
        "id": "BrhVQabCSGmO",
        "outputId": "9634124c-2989-4f56-dd1f-e01a4ecc20ac"
      },
      "execution_count": 13,
      "outputs": [
        {
          "output_type": "execute_result",
          "data": {
            "text/plain": [
              "np.int64(132)"
            ]
          },
          "metadata": {},
          "execution_count": 13
        }
      ]
    },
    {
      "cell_type": "markdown",
      "source": [
        "CONVERTIMOS A CERO LOS DATOS NULOS"
      ],
      "metadata": {
        "id": "_Q5ppmvfp6jC"
      }
    },
    {
      "cell_type": "code",
      "source": [
        "df['descuento']= df['descuento'].fillna(0)"
      ],
      "metadata": {
        "id": "o7qVi576SGjW"
      },
      "execution_count": 14,
      "outputs": []
    },
    {
      "cell_type": "markdown",
      "source": [
        "CONFIRMAMOS QUE QUEDARON CONVETIDOS"
      ],
      "metadata": {
        "id": "TbfN-TZup9EC"
      }
    },
    {
      "cell_type": "code",
      "source": [
        "df['descuento'].isnull().sum()"
      ],
      "metadata": {
        "colab": {
          "base_uri": "https://localhost:8080/"
        },
        "id": "-yE5PnjiSGgu",
        "outputId": "486441ec-a16d-4bea-9080-00e51109253f"
      },
      "execution_count": 15,
      "outputs": [
        {
          "output_type": "execute_result",
          "data": {
            "text/plain": [
              "np.int64(0)"
            ]
          },
          "metadata": {},
          "execution_count": 15
        }
      ]
    },
    {
      "cell_type": "markdown",
      "source": [
        "NORMALIZAR TEXTOS Y ESPACIOS EXTRA"
      ],
      "metadata": {
        "id": "-Dh5mQi406eK"
      }
    },
    {
      "cell_type": "code",
      "source": [
        "df[\"producto\"] = df['producto'].str.strip().str.title()\n",
        "df['categoria'] = df['categoria'].str.strip().str.title()\n",
        "df['metodo_pago'] = df['metodo_pago'].str.strip().str.title()\n",
        "df['ciudad']= df['ciudad'].str.strip().str.title()"
      ],
      "metadata": {
        "id": "tHhXbMBiSGeC"
      },
      "execution_count": 16,
      "outputs": []
    },
    {
      "cell_type": "markdown",
      "source": [
        "CORREGIR ERRORES DE TIPEO"
      ],
      "metadata": {
        "id": "WT0G-Eb22YPZ"
      }
    },
    {
      "cell_type": "code",
      "source": [
        "df['metodo_pago'].unique()"
      ],
      "metadata": {
        "colab": {
          "base_uri": "https://localhost:8080/"
        },
        "id": "JO0uBsXiSGbf",
        "outputId": "974c276e-7cc4-4058-cb52-fc4caf02d5f9"
      },
      "execution_count": 17,
      "outputs": [
        {
          "output_type": "execute_result",
          "data": {
            "text/plain": [
              "array(['Efectivo', 'Tarjeta', 'Tarjerta', nan, 'Transferencia'],\n",
              "      dtype=object)"
            ]
          },
          "metadata": {},
          "execution_count": 17
        }
      ]
    },
    {
      "cell_type": "markdown",
      "source": [
        "VEMOS QUE HAY TARJERTA Y TARJETA"
      ],
      "metadata": {
        "id": "6Rn5UbI0221f"
      }
    },
    {
      "cell_type": "code",
      "source": [
        "df[\"metodo_pago\"] = df[\"metodo_pago\"].replace({\"Tarjerta\": \"Tarjeta\"})"
      ],
      "metadata": {
        "id": "cBGNRTjT208G"
      },
      "execution_count": 18,
      "outputs": []
    },
    {
      "cell_type": "code",
      "source": [
        "df['metodo_pago'].unique()"
      ],
      "metadata": {
        "colab": {
          "base_uri": "https://localhost:8080/"
        },
        "id": "sOp8hptl3PY9",
        "outputId": "0879b15c-a434-4680-8186-6c70d18f51b1"
      },
      "execution_count": 19,
      "outputs": [
        {
          "output_type": "execute_result",
          "data": {
            "text/plain": [
              "array(['Efectivo', 'Tarjeta', nan, 'Transferencia'], dtype=object)"
            ]
          },
          "metadata": {},
          "execution_count": 19
        }
      ]
    },
    {
      "cell_type": "code",
      "source": [
        "df.columns"
      ],
      "metadata": {
        "colab": {
          "base_uri": "https://localhost:8080/"
        },
        "id": "waI_5r4eD2Tl",
        "outputId": "55d77354-a58e-4da5-fb36-ba3d54802651"
      },
      "execution_count": 20,
      "outputs": [
        {
          "output_type": "execute_result",
          "data": {
            "text/plain": [
              "Index(['id_venta', 'fecha', 'cliente', 'producto', 'categoria', 'cantidad',\n",
              "       'precio_unitario', 'descuento', 'metodo_pago', 'ciudad'],\n",
              "      dtype='object')"
            ]
          },
          "metadata": {},
          "execution_count": 20
        }
      ]
    },
    {
      "cell_type": "code",
      "source": [
        "df['producto'].unique()"
      ],
      "metadata": {
        "colab": {
          "base_uri": "https://localhost:8080/"
        },
        "id": "phbun9TmD5D0",
        "outputId": "f29ffa47-2626-4ab5-d939-dbfb4ed21adc"
      },
      "execution_count": 21,
      "outputs": [
        {
          "output_type": "execute_result",
          "data": {
            "text/plain": [
              "array(['Auriculares', 'Celular', 'Laptop', 'Mouse', 'Monitor', 'Tablet',\n",
              "       'Impresora', 'Teclado'], dtype=object)"
            ]
          },
          "metadata": {},
          "execution_count": 21
        }
      ]
    },
    {
      "cell_type": "code",
      "source": [
        "df[\"categoria\"].unique()"
      ],
      "metadata": {
        "colab": {
          "base_uri": "https://localhost:8080/"
        },
        "id": "TA7GDcx_EC-U",
        "outputId": "b2349af4-96da-4d69-868c-5e9663cd6af7"
      },
      "execution_count": 22,
      "outputs": [
        {
          "output_type": "execute_result",
          "data": {
            "text/plain": [
              "array(['Sin Categoría', 'Electrónica', 'Electronica', 'Tecnologia',\n",
              "       'Tecnología'], dtype=object)"
            ]
          },
          "metadata": {},
          "execution_count": 22
        }
      ]
    },
    {
      "cell_type": "code",
      "source": [
        "df['categoria']= df[\"categoria\"].replace({\"Electronica\": \"Electrónica\", \"Tecnologia\": \"Tecnología\" })"
      ],
      "metadata": {
        "id": "IPFKl2HlEIYM"
      },
      "execution_count": 23,
      "outputs": []
    },
    {
      "cell_type": "code",
      "source": [
        "df[\"categoria\"].unique()"
      ],
      "metadata": {
        "colab": {
          "base_uri": "https://localhost:8080/"
        },
        "id": "uA6_AzWwEdxr",
        "outputId": "0a513377-7306-4309-885b-1f3886ab1734"
      },
      "execution_count": 24,
      "outputs": [
        {
          "output_type": "execute_result",
          "data": {
            "text/plain": [
              "array(['Sin Categoría', 'Electrónica', 'Tecnología'], dtype=object)"
            ]
          },
          "metadata": {},
          "execution_count": 24
        }
      ]
    },
    {
      "cell_type": "code",
      "source": [
        "df[\"ciudad\"].unique()"
      ],
      "metadata": {
        "colab": {
          "base_uri": "https://localhost:8080/"
        },
        "id": "OgM5vTRsEokr",
        "outputId": "db5f5803-c8af-46dd-8bdf-d871ede73150"
      },
      "execution_count": 25,
      "outputs": [
        {
          "output_type": "execute_result",
          "data": {
            "text/plain": [
              "array(['Mendoza', nan, 'Córdoba', 'Rosario', 'Tucumán', 'Buenos Aires'],\n",
              "      dtype=object)"
            ]
          },
          "metadata": {},
          "execution_count": 25
        }
      ]
    },
    {
      "cell_type": "markdown",
      "source": [
        "CONFIRMAMOS QUE EN NINGUNA CATEGORIA QUEDEN ERRORES DE TIPEO"
      ],
      "metadata": {
        "id": "LNAa_LWgE4ZK"
      }
    },
    {
      "cell_type": "code",
      "source": [
        "df.info()"
      ],
      "metadata": {
        "colab": {
          "base_uri": "https://localhost:8080/"
        },
        "id": "bK0EAJ9qEoh6",
        "outputId": "f515e1e4-ee17-4df9-faf0-94e79fdcda0b"
      },
      "execution_count": 26,
      "outputs": [
        {
          "output_type": "stream",
          "name": "stdout",
          "text": [
            "<class 'pandas.core.frame.DataFrame'>\n",
            "Index: 1446 entries, 0 to 1499\n",
            "Data columns (total 10 columns):\n",
            " #   Column           Non-Null Count  Dtype  \n",
            "---  ------           --------------  -----  \n",
            " 0   id_venta         1446 non-null   int64  \n",
            " 1   fecha            1396 non-null   object \n",
            " 2   cliente          1372 non-null   object \n",
            " 3   producto         1446 non-null   object \n",
            " 4   categoria        1446 non-null   object \n",
            " 5   cantidad         1415 non-null   float64\n",
            " 6   precio_unitario  1446 non-null   float64\n",
            " 7   descuento        1446 non-null   float64\n",
            " 8   metodo_pago      1130 non-null   object \n",
            " 9   ciudad           1172 non-null   object \n",
            "dtypes: float64(3), int64(1), object(6)\n",
            "memory usage: 124.3+ KB\n"
          ]
        }
      ]
    },
    {
      "cell_type": "markdown",
      "source": [
        "VERIFICAMOS QUE FECHA ESTA EN UN TYPO OBJECT EN VEZ DEL CORRESPONDIENTE DATATIME"
      ],
      "metadata": {
        "id": "6doyheOhkjx7"
      }
    },
    {
      "cell_type": "code",
      "source": [
        "df['fecha']= pd.to_datetime(df['fecha'], errors='coerce')"
      ],
      "metadata": {
        "id": "qJxRgFjVEofD"
      },
      "execution_count": 29,
      "outputs": []
    },
    {
      "cell_type": "code",
      "source": [
        "df.info()"
      ],
      "metadata": {
        "colab": {
          "base_uri": "https://localhost:8080/"
        },
        "id": "vQmyD3TKEoca",
        "outputId": "ec9d91a5-8806-47a8-f0e3-3f72198b314d"
      },
      "execution_count": 30,
      "outputs": [
        {
          "output_type": "stream",
          "name": "stdout",
          "text": [
            "<class 'pandas.core.frame.DataFrame'>\n",
            "Index: 1446 entries, 0 to 1499\n",
            "Data columns (total 10 columns):\n",
            " #   Column           Non-Null Count  Dtype         \n",
            "---  ------           --------------  -----         \n",
            " 0   id_venta         1446 non-null   int64         \n",
            " 1   fecha            1396 non-null   datetime64[ns]\n",
            " 2   cliente          1372 non-null   object        \n",
            " 3   producto         1446 non-null   object        \n",
            " 4   categoria        1446 non-null   object        \n",
            " 5   cantidad         1415 non-null   float64       \n",
            " 6   precio_unitario  1446 non-null   float64       \n",
            " 7   descuento        1446 non-null   float64       \n",
            " 8   metodo_pago      1130 non-null   object        \n",
            " 9   ciudad           1172 non-null   object        \n",
            "dtypes: datetime64[ns](1), float64(3), int64(1), object(5)\n",
            "memory usage: 124.3+ KB\n"
          ]
        }
      ]
    },
    {
      "cell_type": "markdown",
      "source": [
        "QUEDANDO CORREGIDO CONFIRMAMOS QUE FECHA QUEDO EN EL FORMATO CORRECTO"
      ],
      "metadata": {
        "id": "RmrB2Pk-k5qh"
      }
    },
    {
      "cell_type": "markdown",
      "source": [
        "CREAMOS UNA COLUMNA NUEVA CON VENTAS TOTAL QUE VA A CONTENER LA CANTIDAD * PRECIO UNITARIO * DESCUENTO"
      ],
      "metadata": {
        "id": "SC-ipnpZlMA5"
      }
    },
    {
      "cell_type": "code",
      "source": [
        "df['ventas_totales'] = df['cantidad']* df['precio_unitario'] * (1- df['descuento']/100).round(2)"
      ],
      "metadata": {
        "id": "9RHpoWduEoZr"
      },
      "execution_count": 34,
      "outputs": []
    },
    {
      "cell_type": "code",
      "source": [
        "df['ventas_totales'].head()"
      ],
      "metadata": {
        "colab": {
          "base_uri": "https://localhost:8080/",
          "height": 241
        },
        "id": "VnyR7KlXlpAh",
        "outputId": "fc959a94-c8b2-457c-d233-a3a8a573e07e"
      },
      "execution_count": 35,
      "outputs": [
        {
          "output_type": "execute_result",
          "data": {
            "text/plain": [
              "0     524.46\n",
              "1    4769.52\n",
              "2    1031.17\n",
              "3    5368.86\n",
              "4    3646.68\n",
              "Name: ventas_totales, dtype: float64"
            ],
            "text/html": [
              "<div>\n",
              "<style scoped>\n",
              "    .dataframe tbody tr th:only-of-type {\n",
              "        vertical-align: middle;\n",
              "    }\n",
              "\n",
              "    .dataframe tbody tr th {\n",
              "        vertical-align: top;\n",
              "    }\n",
              "\n",
              "    .dataframe thead th {\n",
              "        text-align: right;\n",
              "    }\n",
              "</style>\n",
              "<table border=\"1\" class=\"dataframe\">\n",
              "  <thead>\n",
              "    <tr style=\"text-align: right;\">\n",
              "      <th></th>\n",
              "      <th>ventas_totales</th>\n",
              "    </tr>\n",
              "  </thead>\n",
              "  <tbody>\n",
              "    <tr>\n",
              "      <th>0</th>\n",
              "      <td>524.46</td>\n",
              "    </tr>\n",
              "    <tr>\n",
              "      <th>1</th>\n",
              "      <td>4769.52</td>\n",
              "    </tr>\n",
              "    <tr>\n",
              "      <th>2</th>\n",
              "      <td>1031.17</td>\n",
              "    </tr>\n",
              "    <tr>\n",
              "      <th>3</th>\n",
              "      <td>5368.86</td>\n",
              "    </tr>\n",
              "    <tr>\n",
              "      <th>4</th>\n",
              "      <td>3646.68</td>\n",
              "    </tr>\n",
              "  </tbody>\n",
              "</table>\n",
              "</div><br><label><b>dtype:</b> float64</label>"
            ]
          },
          "metadata": {},
          "execution_count": 35
        }
      ]
    },
    {
      "cell_type": "markdown",
      "source": [
        "CREAMOS LA COLUMNA CORRESPONDIENTE Y REDONDEAMOS A 2 DIGITOS"
      ],
      "metadata": {
        "id": "pKAQNkGonun0"
      }
    },
    {
      "cell_type": "markdown",
      "source": [
        "# CARGA DE DATOS (L)"
      ],
      "metadata": {
        "id": "BFWrCIIfn8MU"
      }
    },
    {
      "cell_type": "markdown",
      "source": [],
      "metadata": {
        "id": "UlFhc5ByoHqE"
      }
    },
    {
      "cell_type": "code",
      "source": [
        "df.to_csv(\"ventas_etl_final.csv\", index=False , encoding='utf-8')"
      ],
      "metadata": {
        "id": "1MLO2NvXnl0k"
      },
      "execution_count": 37,
      "outputs": []
    },
    {
      "cell_type": "code",
      "source": [],
      "metadata": {
        "id": "qdyidJsVnlxn"
      },
      "execution_count": null,
      "outputs": []
    },
    {
      "cell_type": "code",
      "source": [],
      "metadata": {
        "id": "nomwyhQrnlr5"
      },
      "execution_count": null,
      "outputs": []
    },
    {
      "cell_type": "code",
      "source": [],
      "metadata": {
        "id": "CkgT9qiqnlou"
      },
      "execution_count": null,
      "outputs": []
    },
    {
      "cell_type": "code",
      "source": [],
      "metadata": {
        "id": "Zk0O1-r9nle9"
      },
      "execution_count": null,
      "outputs": []
    }
  ]
}